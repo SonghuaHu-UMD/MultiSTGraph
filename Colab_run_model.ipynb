{
 "cells": [
  {
   "cell_type": "code",
   "execution_count": null,
   "metadata": {
    "id": "kYfsiR14WCKI"
   },
   "outputs": [],
   "source": [
    "from google.colab import drive\n",
    "drive.mount('/content/drive')\n",
    "# %cd /content/drive/Othercomputers/My Computer/PycharmProjects/Bigscity-LibCity/\n",
    "%cd /content/drive/MyDrive/MultiSTGraph/"
   ]
  },
  {
   "cell_type": "code",
   "execution_count": null,
   "metadata": {
    "id": "IrDMAZLQyj-Q"
   },
   "outputs": [],
   "source": [
    "gpu_info = !nvidia-smi\n",
    "gpu_info = '\\n'.join(gpu_info)\n",
    "if gpu_info.find('failed') >= 0:\n",
    "  print('Not connected to a GPU')\n",
    "else:\n",
    "  print(gpu_info)"
   ]
  },
  {
   "cell_type": "code",
   "execution_count": null,
   "metadata": {
    "id": "EeG0Co7Wa1z4"
   },
   "outputs": [],
   "source": [
    "# import torchtext\n",
    "# torchtext.__version__\n",
    "!pip3 install ray\n",
    "!pip3 install -U torchtext\n",
    "!pip3 install -U hyperopt\n",
    "!pip3 install dgl\n",
    "!pip3 install dtaidistance\n",
    "!pip3 install --upgrade gensim\n",
    "!pip3 install torch==1.10.2+cu113 torchvision==0.11.3+cu113 -f https://download.pytorch.org/whl/torch_stable.html \n",
    "# !pip3 install torchtext==0.10.0"
   ]
  },
  {
   "cell_type": "code",
   "execution_count": null,
   "metadata": {
    "id": "qrg6iJn-YaRv"
   },
   "outputs": [],
   "source": [
    "import torch\n",
    "print(torch.__version__)\n",
    "import argparse\n",
    "from libcity.pipeline import run_model\n",
    "from libcity.utils import str2bool, add_general_args\n",
    "\n",
    "model_list = ['MultiATGCN']\n",
    "if __name__ == '__main__':\n",
    "    for model_name in model_list:\n",
    "        parser = argparse.ArgumentParser()\n",
    "        parser.add_argument('--task', type=str, default='traffic_state_pred', help='the name of task')\n",
    "        parser.add_argument('--model', type=str, default=model_name, help='the name of model')\n",
    "        parser.add_argument('--dataset', type=str, default='201901010601_BM_SG_CTractFIPS_Hourly_Single_GP',\n",
    "                            help='the name of dataset')\n",
    "        parser.add_argument('--config_file', type=str, default='config_user', help='the file name of config file')\n",
    "        parser.add_argument('--saved_model', type=str2bool, default=True, help='whether save the trained model')\n",
    "        parser.add_argument('--train', type=str2bool, default=True, help='whether re-train if the model is trained')\n",
    "        parser.add_argument('--exp_id', type=str, default=None, help='id of experiment')\n",
    "        parser.add_argument('--seed', type=int, default=0, help='random seed')\n",
    "        parser.add_argument('--start_dim', type=int, default=0, help='start_dim')\n",
    "        parser.add_argument('--end_dim', type=int, default=1, help='end_dim')\n",
    "        add_general_args(parser)\n",
    "        args, unknown = parser.parse_known_args()\n",
    "        dict_args = vars(args)\n",
    "        other_args = {key: val for key, val in dict_args.items() if key not in\n",
    "                      ['task', 'model', 'dataset', 'config_file', 'saved_model', 'train'] and val is not None}\n",
    "        run_model(task=args.task, model_name=args.model, dataset_name=args.dataset, config_file=args.config_file,\n",
    "                  saved_model=args.saved_model, train=args.train, other_args=other_args)"
   ]
  }
 ],
 "metadata": {
  "colab": {
   "collapsed_sections": [],
   "machine_shape": "hm",
   "provenance": []
  },
  "gpuClass": "standard",
  "kernelspec": {
   "display_name": "Python 3",
   "name": "python3"
  },
  "language_info": {
   "name": "python"
  },
  "accelerator": "GPU"
 },
 "nbformat": 4,
 "nbformat_minor": 0
}
